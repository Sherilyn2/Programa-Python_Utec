{
  "nbformat": 4,
  "nbformat_minor": 0,
  "metadata": {
    "colab": {
      "provenance": [],
      "authorship_tag": "ABX9TyNTXAtuzO8H+567jkvXu75N",
      "include_colab_link": true
    },
    "kernelspec": {
      "name": "python3",
      "display_name": "Python 3"
    },
    "language_info": {
      "name": "python"
    }
  },
  "cells": [
    {
      "cell_type": "markdown",
      "metadata": {
        "id": "view-in-github",
        "colab_type": "text"
      },
      "source": [
        "<a href=\"https://colab.research.google.com/github/Sherilyn2/Programa-Python_Utec/blob/main/Sherilyn_Albornoz.ipynb\" target=\"_parent\"><img src=\"https://colab.research.google.com/assets/colab-badge.svg\" alt=\"Open In Colab\"/></a>"
      ]
    },
    {
      "cell_type": "markdown",
      "source": [
        "1. Creación de listas (1 puntos)\n",
        "Crea una lista llamada numeros_pares que contenga los números del 1 al 100\n",
        "con saltos de 2 en 2.\n",
        "\n",
        "numeros_pares = [2, 4, 6, 8, 10, 12 ... 100]"
      ],
      "metadata": {
        "id": "DfxdjvL1VL_3"
      }
    },
    {
      "cell_type": "code",
      "execution_count": 1,
      "metadata": {
        "colab": {
          "base_uri": "https://localhost:8080/"
        },
        "id": "VkwCqUVNVIVp",
        "outputId": "2dd845b4-567a-4561-fa24-ddf3b933147f"
      },
      "outputs": [
        {
          "output_type": "stream",
          "name": "stdout",
          "text": [
            "[2, 4, 6, 8, 10, 12, 14, 16, 18, 20, 22, 24, 26, 28, 30, 32, 34, 36, 38, 40, 42, 44, 46, 48, 50, 52, 54, 56, 58, 60, 62, 64, 66, 68, 70, 72, 74, 76, 78, 80, 82, 84, 86, 88, 90, 92, 94, 96, 98, 100]\n"
          ]
        }
      ],
      "source": [
        "numeros_pares = list(range(2, 101, 2))\n",
        "print(numeros_pares)"
      ]
    },
    {
      "cell_type": "markdown",
      "source": [
        "2. Manipulación de listas (1 puntos)\n",
        "Agrega los números 102, 104 y 106 al final de la lista numeros_pares y luego\n",
        "elimina los primeros 5 números de la lista numeros_pares. Muestra la lista\n",
        "resultante."
      ],
      "metadata": {
        "id": "I-n0d4lpWZrL"
      }
    },
    {
      "cell_type": "code",
      "source": [
        "#Agregar 102, 104 y 106 al final\n",
        "\n",
        "numeros_pares.extend([102, 104, 106])\n",
        "\n",
        "\n",
        "#Eliminar los 5 primeros elementos\n",
        "numeros_pares = numeros_pares[5:]\n",
        "print(numeros_pares)\n"
      ],
      "metadata": {
        "colab": {
          "base_uri": "https://localhost:8080/"
        },
        "id": "vBJfXI03WZWT",
        "outputId": "7692bdea-92ef-458b-e705-0286e5b5d7b4"
      },
      "execution_count": 2,
      "outputs": [
        {
          "output_type": "stream",
          "name": "stdout",
          "text": [
            "[12, 14, 16, 18, 20, 22, 24, 26, 28, 30, 32, 34, 36, 38, 40, 42, 44, 46, 48, 50, 52, 54, 56, 58, 60, 62, 64, 66, 68, 70, 72, 74, 76, 78, 80, 82, 84, 86, 88, 90, 92, 94, 96, 98, 100, 102, 104, 106]\n"
          ]
        }
      ]
    },
    {
      "cell_type": "markdown",
      "source": [
        "3. Operaciones con listas (2 puntos)\n",
        "Crea una lista llamada resultante que contenga la raíz cuadrada de cada\n",
        "elemento de la lista numeros_pares usando list comprehension."
      ],
      "metadata": {
        "id": "Ps1xZ-XpW91H"
      }
    },
    {
      "cell_type": "code",
      "source": [
        "resultante = [num ** 0.5 for num in numeros_pares]\n",
        "\n",
        "print(resultante)"
      ],
      "metadata": {
        "colab": {
          "base_uri": "https://localhost:8080/"
        },
        "id": "Gvh8tTthXEmM",
        "outputId": "6d21afbc-2762-4a80-d279-38f4365f1c8e"
      },
      "execution_count": 3,
      "outputs": [
        {
          "output_type": "stream",
          "name": "stdout",
          "text": [
            "[3.4641016151377544, 3.7416573867739413, 4.0, 4.242640687119285, 4.47213595499958, 4.69041575982343, 4.898979485566356, 5.0990195135927845, 5.291502622129181, 5.477225575051661, 5.656854249492381, 5.830951894845301, 6.0, 6.164414002968976, 6.324555320336759, 6.48074069840786, 6.6332495807108, 6.782329983125268, 6.928203230275509, 7.0710678118654755, 7.211102550927978, 7.3484692283495345, 7.483314773547883, 7.615773105863909, 7.745966692414834, 7.874007874011811, 8.0, 8.12403840463596, 8.246211251235321, 8.366600265340756, 8.48528137423857, 8.602325267042627, 8.717797887081348, 8.831760866327848, 8.94427190999916, 9.055385138137417, 9.16515138991168, 9.273618495495704, 9.38083151964686, 9.486832980505138, 9.591663046625438, 9.695359714832659, 9.797958971132712, 9.899494936611665, 10.0, 10.099504938362077, 10.198039027185569, 10.295630140987]\n"
          ]
        }
      ]
    },
    {
      "cell_type": "markdown",
      "source": [
        "4. Desempaquetado de tuplas (2 puntos)\n",
        "Dada la siguiente tupla tupla_x = (“alumno”,”Pedro”,15), desempaqueta la\n",
        "tupla tupla_x en tres variables: x, y, z, e imprime la siguiente estructura “El\n",
        "alumno Pedro obtuvo la calificación de 15 usando las variables x, y, z”."
      ],
      "metadata": {
        "id": "LU_xPZwlX3fd"
      }
    },
    {
      "cell_type": "code",
      "source": [
        "tupla_tupla=(\"alumno\",\"Pedro\",15)\n",
        "x, y, z = tupla_tupla\n",
        "print(f\"El alumno {y} obtuvo la calificación de {z} usando las variables {x}, {y}, {z}.\")"
      ],
      "metadata": {
        "colab": {
          "base_uri": "https://localhost:8080/"
        },
        "id": "p8XG1wypX58N",
        "outputId": "06c43cbe-fe3a-4cbf-dc0f-d0a84226ce33"
      },
      "execution_count": 4,
      "outputs": [
        {
          "output_type": "stream",
          "name": "stdout",
          "text": [
            "El alumno Pedro obtuvo la calificación de 15 usando las variables alumno, Pedro, 15.\n"
          ]
        }
      ]
    },
    {
      "cell_type": "markdown",
      "source": [
        "5. Iteración en diccionarios (4 puntos)\n",
        "Dado el siguiente diccionario notas = {“Programacion”:15.9,\n",
        "“Matematica”: 15.1, “Fisica”:15.6}, escribe un bucle for que imprima\n",
        "cada clave y su valor en el diccionario con la siguiente estructura “Mis\n",
        "calificaciones en el curso de Programacion es 15.9”"
      ],
      "metadata": {
        "id": "CDzqtnfrdGwC"
      }
    },
    {
      "cell_type": "code",
      "source": [
        "notas={\"Programacion\":15.9, \"Matematica\": 15.1, \"Fisica\":15.6}\n",
        "\n",
        "for clave, valor in notas.items():\n",
        "    print(f\"Mis calificaciones en el curso de {clave} es {valor}\")"
      ],
      "metadata": {
        "colab": {
          "base_uri": "https://localhost:8080/"
        },
        "id": "mHbz1XmNdGXe",
        "outputId": "aa17fb2c-4293-4923-8f6e-46a0db2346b9"
      },
      "execution_count": 5,
      "outputs": [
        {
          "output_type": "stream",
          "name": "stdout",
          "text": [
            "Mis calificaciones en el curso de Programacion es 15.9\n",
            "Mis calificaciones en el curso de Matematica es 15.1\n",
            "Mis calificaciones en el curso de Fisica es 15.6\n"
          ]
        }
      ]
    },
    {
      "cell_type": "markdown",
      "source": [
        "6. Matrices y funciones de NumPy (4 puntos)\n",
        "Crea una matriz 1D que contenga los primeros 16 elementos de la lista\n",
        "numeros_pares (creada en la pregunta 1), modifique las dimensiones y\n",
        "convertiela en una matriz 2D con shape(4,4), calcula la suma total de los\n",
        "elementos de la matriz matriz 2D."
      ],
      "metadata": {
        "id": "tIiMUkQTdW61"
      }
    },
    {
      "cell_type": "code",
      "source": [
        "\n",
        "import numpy as np\n",
        "\n",
        "#Lista de numeros pares del 2 al 100\n",
        "numeros_pares = list(range(2, 101, 2))\n",
        "\n",
        "#16 primeros elementos\n",
        "primeros_16 = numeros_pares[:16]\n",
        "\n",
        "#Matriz 1D\n",
        "matriz_1D = np.array(primeros_16)\n",
        "\n",
        "#Matriz 2D\n",
        "matriz_2D = matriz_1D.reshape(4, 4)\n",
        "\n",
        "#Suma total de los elementos\n",
        "suma_total = np.sum(matriz_2D)\n",
        "\n",
        "print(\"Matriz 2D:\")\n",
        "print(matriz_2D)\n",
        "print(f\"\\nSuma total de los elementos: {suma_total}\")"
      ],
      "metadata": {
        "colab": {
          "base_uri": "https://localhost:8080/"
        },
        "id": "t1RI4yWWdd9B",
        "outputId": "a4436533-aea9-4d3f-8d09-41a973488af6"
      },
      "execution_count": 6,
      "outputs": [
        {
          "output_type": "stream",
          "name": "stdout",
          "text": [
            "Matriz 2D:\n",
            "[[ 2  4  6  8]\n",
            " [10 12 14 16]\n",
            " [18 20 22 24]\n",
            " [26 28 30 32]]\n",
            "\n",
            "Suma total de los elementos: 272\n"
          ]
        }
      ]
    },
    {
      "cell_type": "markdown",
      "source": [
        "7. Pandas (6 puntos)\n",
        "Leer el archivo datosDemograficos.xlsx y realice un análisis descriptivo en\n",
        "función de las variables más relevantes.\n"
      ],
      "metadata": {
        "id": "4QcnnW4AeVTE"
      }
    },
    {
      "cell_type": "code",
      "source": [
        "import pandas as pd\n",
        "\n",
        "df = pd.read_excel('datosDemograficos.xlsx')\n",
        "\n",
        "print(\"Primeras filas del archivo:\")\n",
        "print(df.head())\n",
        "\n",
        "estadisticas = df.describe()\n",
        "\n",
        "estadisticas_clave = estadisticas.loc[['mean', 'min', 'max']]\n",
        "\n",
        "estadisticas_clave = estadisticas_clave.T  # Transponer filas y columnas\n",
        "estadisticas_clave.columns = ['Media', 'Mínimo', 'Máximo']\n",
        "\n",
        "print(\"\\n Estadísticas clave por variable:\")\n",
        "print(estadisticas_clave)"
      ],
      "metadata": {
        "colab": {
          "base_uri": "https://localhost:8080/"
        },
        "id": "ogdopdk5eSrk",
        "outputId": "47286699-9e9a-4a11-e679-d30de9823b8f"
      },
      "execution_count": 9,
      "outputs": [
        {
          "output_type": "stream",
          "name": "stdout",
          "text": [
            "Primeras filas del archivo:\n",
            "  Indicadores  Fecundidad  Mortalidad  TasaMortalidadxMil  EsperanzaVida  \\\n",
            "0        Puno       30108        9951                6.86          71.44   \n",
            "1  San Martín       16074        4889                5.63          72.45   \n",
            "2       Tacna        5605        1900                5.40          75.11   \n",
            "3      Tumbes        3924        1209                4.94          74.96   \n",
            "4     Ucayali        8872        3020                5.93          71.99   \n",
            "\n",
            "   EVSoloHombres  EVSoloMujeres  TasaMortalidadInfantilxMilNacidos  \\\n",
            "0          68.77          74.25                              26.82   \n",
            "1          69.65          75.40                              17.53   \n",
            "2          72.31          78.06                              11.77   \n",
            "3          72.09          77.98                              11.46   \n",
            "4          69.24          74.87                              21.07   \n",
            "\n",
            "   CrecimientoNatural  \n",
            "0               20157  \n",
            "1               11185  \n",
            "2                3705  \n",
            "3                2715  \n",
            "4                5852  \n",
            "\n",
            " Estadísticas clave por variable:\n",
            "                                          Media   Mínimo     Máximo\n",
            "Fecundidad                         22874.400000  2571.00  163089.00\n",
            "Mortalidad                          7265.280000   660.00   55201.00\n",
            "TasaMortalidadxMil                     5.711667     4.54       6.97\n",
            "EsperanzaVida                         74.059600    70.93      78.38\n",
            "EVSoloHombres                         71.337200    68.53      75.68\n",
            "EVSoloMujeres                         76.919200    73.45      81.22\n",
            "TasaMortalidadInfantilxMilNacidos     16.984000     7.81      26.82\n",
            "CrecimientoNatural                 15609.120000  1566.00  107888.00\n"
          ]
        }
      ]
    },
    {
      "cell_type": "markdown",
      "source": [],
      "metadata": {
        "id": "1ck1QM8qeUuH"
      }
    }
  ]
}