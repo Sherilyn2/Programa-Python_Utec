{
  "nbformat": 4,
  "nbformat_minor": 0,
  "metadata": {
    "colab": {
      "provenance": [],
      "include_colab_link": true
    },
    "kernelspec": {
      "name": "python3",
      "display_name": "Python 3"
    },
    "language_info": {
      "name": "python"
    }
  },
  "cells": [
    {
      "cell_type": "markdown",
      "metadata": {
        "id": "view-in-github",
        "colab_type": "text"
      },
      "source": [
        "<a href=\"https://colab.research.google.com/github/Sherilyn2/Programa-Python_Utec/blob/main/Programacion-Python-Utec/examenes/mod1_trabajo_calificado_misiones_de_codigo.ipynb\" target=\"_parent\"><img src=\"https://colab.research.google.com/assets/colab-badge.svg\" alt=\"Open In Colab\"/></a>"
      ]
    },
    {
      "cell_type": "markdown",
      "source": [
        "<img src=\"https://posgrado.utec.edu.pe/sites/default/files/2023-08/Testimonial-home-2.jpg\" alt=\"HTML5 Icon\" width=\"900\" height=\"250\" >\n"
      ],
      "metadata": {
        "id": "dYz-CyepUcRS"
      }
    },
    {
      "cell_type": "markdown",
      "source": [
        "# **Trabajo Calificado: Misiones de Código**"
      ],
      "metadata": {
        "id": "tYd6BiWgUfLo"
      }
    },
    {
      "cell_type": "markdown",
      "source": [
        "**Contexto:**\n",
        "\n",
        "Eres desarrollador de un Simulador de Aventuras llamado Pythonia, un entorno virtual de entrenamiento diseñado para mejorar tus habilidades de programación. En este simulador, enfrentarás una serie de desafíos basados en situaciones de videojuegos y escenarios de aventura, donde deberás aplicar estructuras lógicas, condicionales, bucles y funciones para resolver problemas.\n",
        "\n"
      ],
      "metadata": {
        "id": "GtjjVTFRU6W1"
      }
    },
    {
      "cell_type": "markdown",
      "source": [
        "Cada ejercicio representa un reto independiente que simula eventos comunes en el desarrollo de videojuegos, sistemas de simulación y lógica de juegos interactivos."
      ],
      "metadata": {
        "id": "Ggayz2SXVXjt"
      }
    },
    {
      "cell_type": "markdown",
      "source": [
        "**Recomendaciones:**\n",
        "\n",
        "Utilizar buenas prácticas: comentarios, entradas y salidas limpias.\n",
        "\n",
        "Uso de funciones donde sea necesario."
      ],
      "metadata": {
        "id": "eAL1_dscUjd_"
      }
    },
    {
      "cell_type": "markdown",
      "source": [
        "**Ejercicio 1: Elige tu personaje (Variables y Entrada/Salida)**\n",
        "\n",
        "Crea un programa que permita al jugador elegir su personaje entre Mago, Guerrero o Arquero. Según la elección, muestra un mensaje personalizado con las estadísticas iniciales (vida, poder, defensa)."
      ],
      "metadata": {
        "id": "YpxJc_PoVc4c"
      }
    },
    {
      "cell_type": "code",
      "source": [
        "## INICIO DE CÓDIGO\n",
        "personaje = input('Elige un personaje entre Mago, Guerrero o Arquero: ').strip().lower()\n",
        "if personaje == 'mago':\n",
        "  print('Vida: 100, Poder: 50, Defensa: 20')\n",
        "elif personaje == 'guerrero':\n",
        "  print('Vida: 120, Poder: 60, Defensa: 15')\n",
        "elif personaje == 'arquero':\n",
        "  print('Vida: 80, Poder: 70, Defensa: 25')\n",
        "else:\n",
        "  print('Elige un personaje válido')\n",
        "## FIN DE CÓDIGO"
      ],
      "metadata": {
        "id": "GZrzl-7wVfkW",
        "colab": {
          "base_uri": "https://localhost:8080/"
        },
        "outputId": "9dac7a61-e32e-4e3d-ff72-30c4173b2585"
      },
      "execution_count": 38,
      "outputs": [
        {
          "output_type": "stream",
          "name": "stdout",
          "text": [
            "Elige un personaje entre Mago, Guerrero o Arquero: MAgo\n",
            "Vida: 100, Poder: 50, Defensa: 20\n"
          ]
        }
      ]
    },
    {
      "cell_type": "markdown",
      "source": [
        "**Ejercicio 2: La prueba del sabio (Condicionales)**\n",
        "\n",
        "El sabio te hace una pregunta: si traes menos de 50 monedas de oro, te expulsará; si llevas entre 50 y 100, te permitirá pasar; si llevas más de 100, te dará una poción.\n",
        "Crea el programa que lea las monedas y muestre el resultado."
      ],
      "metadata": {
        "id": "kvoGwX-QVgPr"
      }
    },
    {
      "cell_type": "code",
      "execution_count": 26,
      "metadata": {
        "id": "3tg6KSK-UbUw",
        "colab": {
          "base_uri": "https://localhost:8080/"
        },
        "outputId": "fa69830d-4b3d-4282-ecbd-23c07d44d31b"
      },
      "outputs": [
        {
          "output_type": "stream",
          "name": "stdout",
          "text": [
            "¿Cuántas monedas traes?: 51\n",
            "El sabio te permite pasar\n"
          ]
        }
      ],
      "source": [
        "## INICIO DE CÓDIGO\n",
        "cant_monedas = float(input('¿Cuántas monedas traes?: '))\n",
        "if cant_monedas < 50:\n",
        "  print('Estás expulsado del juego')\n",
        "elif 50 <= cant_monedas <= 100:\n",
        "  print('El sabio te permite pasar')\n",
        "else: #cant_monedas > 100\n",
        "  print('El sabio te da una poción')\n",
        "## FIN DE CÓDIGO\n"
      ]
    },
    {
      "cell_type": "markdown",
      "source": [
        "**Ejercicio 3: El puente infinito (Bucles While)**\n",
        "\n",
        "Diseña un programa que simule el cruce de un puente que cambia su estructura aleatoriamente. El jugador debe adivinar si el siguiente paso será seguro ('s') o peligroso ('p').\n",
        "El juego termina si el jugador elige 'salir' o si falla 3 veces."
      ],
      "metadata": {
        "id": "g7B02fWhVj4M"
      }
    },
    {
      "cell_type": "code",
      "source": [
        "## INICIO DE CÓDIGO\n",
        "import random\n",
        "def puente_infinito():\n",
        "  errores = 0\n",
        "  pasos = 0\n",
        "  opciones = ['s','p']\n",
        "  print('Bienvenido al juego del puente infinito')\n",
        "  print('Adivina si el siguiente paso es seguro (s) o peligroso (p)')\n",
        "  print('El juego termina si el jugador elige salir o fallar 3 veces')\n",
        "\n",
        "  while errores < 3:\n",
        "    tramo = random.choice(opciones)\n",
        "    eleccion = input('¿El siguiente paso será seguro o peligroso?: ').strip().lower()\n",
        "\n",
        "    if eleccion == 'salir':\n",
        "      print('Juego terminado por salida')\n",
        "      break\n",
        "    elif eleccion not in opciones:\n",
        "      print('Elige una opción válida (s,p, o salir).')\n",
        "      continue\n",
        "\n",
        "    pasos+=1\n",
        "    if eleccion==tramo:\n",
        "      print('Correcto, has cruzado el tramo')\n",
        "    else:\n",
        "      errores += 1\n",
        "      print(f'Incorrecto. Era {tramo}. Te quedan {3-errores} intentos.')\n",
        "\n",
        "  if errores == 3:\n",
        "    print('Juego terminado')\n",
        "  print(f'Pasos cruzados correctamente: {pasos} pasos')\n",
        "puente_infinito()\n",
        "## FIN DE CÓDIGO"
      ],
      "metadata": {
        "id": "9DRMWhDBVn71",
        "colab": {
          "base_uri": "https://localhost:8080/"
        },
        "outputId": "1bba1f01-61b9-4c8f-e4a6-b213f7de3684"
      },
      "execution_count": 82,
      "outputs": [
        {
          "output_type": "stream",
          "name": "stdout",
          "text": [
            "Bienvenido al juego del puente infinito\n",
            "Adivina si el siguiente paso es seguro (s) o peligroso (p)\n",
            "El juego termina si el jugador elige salir o fallar 3 veces\n",
            "¿El siguiente paso será seguro o peligroso?: s\n",
            "Correcto, has cruzado el tramo\n",
            "¿El siguiente paso será seguro o peligroso?: salir\n",
            "Juego terminado por salida\n",
            "Pasos cruzados correctamente: 1 pasos\n"
          ]
        }
      ]
    },
    {
      "cell_type": "markdown",
      "source": [
        "**Ejercicio 4: El laberinto secreto (Bucle For y Range)**\n",
        "\n",
        "Crea un programa que muestre una cuenta regresiva desde 10 hasta 1 al estilo nivel de escape del laberinto. Cada número debe ir acompañado de un mensaje tipo \"Quedan X segundos para escapar\"."
      ],
      "metadata": {
        "id": "66qKXQwTVoZG"
      }
    },
    {
      "cell_type": "code",
      "source": [
        "## INICIO DE CÓDIGO\n",
        "for segundos in range (10,0,-1):\n",
        "  print(f'Quedan {segundos} segundos para escapar')\n",
        "print('Tiempo terminado, Escape del laberinto')\n",
        "## FIN DE CÓDIGO"
      ],
      "metadata": {
        "id": "i1S9WPmhVsEj",
        "colab": {
          "base_uri": "https://localhost:8080/"
        },
        "outputId": "9cba4084-97c4-4b03-cd71-bb4c98ee7879"
      },
      "execution_count": 42,
      "outputs": [
        {
          "output_type": "stream",
          "name": "stdout",
          "text": [
            "Quedan 10 segundos para escapar\n",
            "Quedan 9 segundos para escapar\n",
            "Quedan 8 segundos para escapar\n",
            "Quedan 7 segundos para escapar\n",
            "Quedan 6 segundos para escapar\n",
            "Quedan 5 segundos para escapar\n",
            "Quedan 4 segundos para escapar\n",
            "Quedan 3 segundos para escapar\n",
            "Quedan 2 segundos para escapar\n",
            "Quedan 1 segundos para escapar\n",
            "Tiempo terminado, Escape del laberinto\n"
          ]
        }
      ]
    },
    {
      "cell_type": "markdown",
      "source": [
        "**Ejercicio 5: Cofres encantados (Break y Continue)**\n",
        "\n",
        "Simula 10 cofres cerrados, pero uno de ellos es una trampa explosiva (elige aleatoriamente una posición).\n",
        "El jugador abre cofres uno por uno:\n",
        "\n",
        "* Si encuentra la trampa, termina el juego (break).\n",
        "\n",
        "* Si encuentra cofres vacíos, continúa (continue).\n",
        "\n",
        "* Si abre todos sin explotar, gana."
      ],
      "metadata": {
        "id": "5dL6C-x1VsYf"
      }
    },
    {
      "cell_type": "code",
      "source": [
        "## INICIO DE CÓDIGO\n",
        "import random\n",
        "\n",
        "def cofres_encontrados():\n",
        "    print('Bienvenido al juego de Cofres encontrados')\n",
        "    print('Puedes abrir los cofres del 1 al 10. Pero cuidado! ya que uno de ellos tiene trampa')\n",
        "\n",
        "    trampa = random.randint(1, 10)\n",
        "    gano = True  # Se asume que gana, a menos que explote\n",
        "\n",
        "    for i in range(1, 11):\n",
        "        input(f'\\nPresione Enter para abrir el cofre #{i}...')\n",
        "\n",
        "        if i == trampa:\n",
        "            print('Era una trampa, explotaste')\n",
        "            gano = False\n",
        "            break  # Salir del bucle si hay explosión\n",
        "\n",
        "        print('El cofre está vacío, sigues con vida.')\n",
        "        continue #Continuar al siguiente cofre\n",
        "\n",
        "\n",
        "    # Resultado final\n",
        "    if gano:\n",
        "        print('\\n Ganaste, ¡Abriste todos los cofres sin explotar!')\n",
        "    else:\n",
        "        print('\\n Fin del juego, si deseas intenta de nuevo.')\n",
        "\n",
        "# Ejecutar el juego\n",
        "cofres_encontrados()\n",
        "## FIN DE CÓDIGO"
      ],
      "metadata": {
        "id": "d0hcbl0_V2BI",
        "colab": {
          "base_uri": "https://localhost:8080/"
        },
        "outputId": "32600b5f-1054-4c44-8ff5-f828bac4ce95"
      },
      "execution_count": 99,
      "outputs": [
        {
          "output_type": "stream",
          "name": "stdout",
          "text": [
            "Bienvenido al juego de Cofres encontrados\n",
            "Puedes abrir los cofres del 1 al 10. Pero cuidado! ya que uno de ellos tiene trampa\n",
            "\n",
            "Presione Enter para abrir el cofre #1...\n",
            "El cofre está vacío, sigues con vida.\n",
            "\n",
            "Presione Enter para abrir el cofre #2...\n",
            "El cofre está vacío, sigues con vida.\n",
            "\n",
            "Presione Enter para abrir el cofre #3...\n",
            "El cofre está vacío, sigues con vida.\n",
            "\n",
            "Presione Enter para abrir el cofre #4...\n",
            "El cofre está vacío, sigues con vida.\n",
            "\n",
            "Presione Enter para abrir el cofre #5...\n",
            "El cofre está vacío, sigues con vida.\n",
            "\n",
            "Presione Enter para abrir el cofre #6...\n",
            "El cofre está vacío, sigues con vida.\n",
            "\n",
            "Presione Enter para abrir el cofre #7...\n",
            "El cofre está vacío, sigues con vida.\n",
            "\n",
            "Presione Enter para abrir el cofre #8...\n",
            "El cofre está vacío, sigues con vida.\n",
            "\n",
            "Presione Enter para abrir el cofre #9...\n",
            "Era una trampa, explotaste\n",
            "\n",
            " Fin del juego, si deseas intenta de nuevo.\n"
          ]
        }
      ]
    },
    {
      "cell_type": "markdown",
      "source": [
        "**Ejercicio 6: Pociones mágicas (Funciones básicas)**\n",
        "\n",
        "Crea una función usar_pocion(tipo) que permita al jugador elegir entre 'vida', 'fuerza' o 'velocidad', y retorne el efecto de la poción.\n",
        "Luego, pide al usuario que elija una poción y muestra el resultado llamando a la función."
      ],
      "metadata": {
        "id": "94yOz-rKV2gp"
      }
    },
    {
      "cell_type": "code",
      "source": [
        "## INICIO DE CÓDIGO\n",
        "def usar_pocion(tipo):\n",
        "  tipo = tipo.strip().lower()\n",
        "  if tipo == 'vida':\n",
        "    return 'Efecto: Más 20 puntos de vida'\n",
        "  elif tipo == 'fuerza':\n",
        "    return 'Efecto: Más 15 puntos de fuerza'\n",
        "  elif tipo == 'velocidad':\n",
        "    return 'Efecto: Más 10 puntos de velocidad'\n",
        "  else:\n",
        "    return 'Elige una poción válida'\n",
        "\n",
        "# Aquí llamamos a la función y mostramos el resultado\n",
        "resultado = usar_pocion(input('Elige una pocion: vida, fuerza o velocidad: '))\n",
        "print(resultado)\n",
        "## FIN DE CÓDIGO"
      ],
      "metadata": {
        "id": "NQKm0w5iV4Zz",
        "colab": {
          "base_uri": "https://localhost:8080/"
        },
        "outputId": "9d9becbe-8e6a-42a1-9a25-9afd9f90bbdd"
      },
      "execution_count": 54,
      "outputs": [
        {
          "output_type": "stream",
          "name": "stdout",
          "text": [
            "Elige una pocion: vida, fuerza o velocidad: FUERZA\n",
            "Efecto: Más 15 puntos de fuerza\n"
          ]
        }
      ]
    },
    {
      "cell_type": "markdown",
      "source": [
        "**Ejercicio 7: Calculadora de daño crítico (Funciones con parámetros)**\n",
        "\n",
        "Crea una función calcular_danio(base, critico) que reciba el daño base y un porcentaje de crítico, devolviendo el daño total.\n",
        "El usuario ingresará el daño base y el porcentaje crítico."
      ],
      "metadata": {
        "id": "Qdnbnm4nV44h"
      }
    },
    {
      "cell_type": "code",
      "source": [
        "## INICIO DE CÓDIGO\n",
        "def calcular_danio(base, critico):\n",
        "    return base + (base * critico / 100)\n",
        "\n",
        "# Solicitar datos al usuario\n",
        "base = float(input('Ingrese el daño base: '))\n",
        "critico = float(input('Ingrese el porcentaje crítico: '))\n",
        "\n",
        "# Calcular el daño total\n",
        "resultado = calcular_danio(base, critico)\n",
        "print(f'El daño total es: {resultado}')\n",
        "\n",
        "## FIN DE CÓDIGO"
      ],
      "metadata": {
        "id": "leaLQJWrV8Tx",
        "colab": {
          "base_uri": "https://localhost:8080/"
        },
        "outputId": "f4ecb763-d704-4747-aa3c-e7ff6deb60d6"
      },
      "execution_count": 56,
      "outputs": [
        {
          "output_type": "stream",
          "name": "stdout",
          "text": [
            "Ingrese el daño base: 10\n",
            "Ingrese el porcentaje crítico: 5\n",
            "El daño total es: 10.5\n"
          ]
        }
      ]
    },
    {
      "cell_type": "markdown",
      "source": [
        "**Ejercicio 8: El desafío del dragón (Condicionales + funciones + bucles)**\n",
        "\n",
        "Diseña una función enfrentar_dragon(vida, fuerza) que simule el combate:\n",
        "\n",
        "* El jugador ataca al dragón y el dragón contraataca restando vida.\n",
        "\n",
        "* Si la vida llega a 0, el jugador pierde.\n",
        "\n",
        "* Si el jugador realiza 3 ataques consecutivos sin morir, gana.\n",
        "Usa un bucle while interno para el combate."
      ],
      "metadata": {
        "id": "d4j1ckE2V9ag"
      }
    },
    {
      "cell_type": "code",
      "source": [
        "## INICIO DE CÓDIGO\n",
        "import random\n",
        "\n",
        "def enfrentar_dragon(vida, fuerza):\n",
        "    ataques = 0\n",
        "    print('¡Te enfrentaste al dragón!')\n",
        "\n",
        "    while vida > 0 and ataques < 3:\n",
        "        ataques += 1\n",
        "        print(f'\\nAtaque {ataques}:')\n",
        "\n",
        "        # El dragón contraataca\n",
        "        danio = random.randint(10, 30)\n",
        "        vida -= danio\n",
        "        print(f'El dragón te ha hecho {danio} de daño. Vida restante: {vida}')\n",
        "\n",
        "        if vida <= 0:\n",
        "            print('Has muerto.')\n",
        "            return \"Derrota\"\n",
        "\n",
        "    if ataques >= 3:\n",
        "        print('¡Has derrotado al dragón!')\n",
        "        return \"Victoria\"\n",
        "\n",
        "# Uso\n",
        "vida_inicial = int(input('Ingrese la vida inicial del jugador: '))\n",
        "fuerza_inicial = int(input('Ingrese la fuerza inicial del jugador: '))\n",
        "\n",
        "resultado = enfrentar_dragon(vida_inicial, fuerza_inicial)\n",
        "print(f'\\nResultado del combate: {resultado}')\n",
        "\n",
        "## FIN DE CÓDIGO"
      ],
      "metadata": {
        "id": "_CGyWwuaWByi",
        "colab": {
          "base_uri": "https://localhost:8080/"
        },
        "outputId": "fe04748a-b5a7-4e8d-89fc-6445510626b9"
      },
      "execution_count": 66,
      "outputs": [
        {
          "output_type": "stream",
          "name": "stdout",
          "text": [
            "Ingrese la vida inicial del jugador: 21\n",
            "Ingrese la fuerza inicial del jugador: 32\n",
            "¡Te enfrentaste al dragón!\n",
            "\n",
            "Ataque 1:\n",
            "El dragón te ha hecho 13 de daño. Vida restante: 8\n",
            "\n",
            "Ataque 2:\n",
            "El dragón te ha hecho 21 de daño. Vida restante: -13\n",
            "Has muerto.\n",
            "\n",
            "Resultado del combate: Derrota\n"
          ]
        }
      ]
    },
    {
      "cell_type": "markdown",
      "source": [
        "**Ejercicio 9: El camino del héroe (Recursividad sencilla)**\n",
        "\n",
        "Crea una función recursiva que simule el camino de un héroe cruzando N obstáculos, mostrando mensajes como:\n",
        "\n",
        "\"Obstáculo 3: saltando...\"\n",
        "\n",
        "Termina cuando N llegue a 0."
      ],
      "metadata": {
        "id": "8X5Y08fQWCFU"
      }
    },
    {
      "cell_type": "code",
      "source": [
        "## INICIO DE CÓDIGO\n",
        "def camino_heroe(n):\n",
        "  if n == 0:\n",
        "    print('Llegaste al final')\n",
        "    return\n",
        "  else:\n",
        "    print(f'Obstáculo {n}: saltando...')\n",
        "    camino_heroe(n-1)\n",
        "\n",
        "camino_heroe(5)\n",
        "print('Fin del juego')\n",
        "\n",
        "## FIN DE CÓDIGO"
      ],
      "metadata": {
        "id": "vVDjZHSVWJdQ",
        "colab": {
          "base_uri": "https://localhost:8080/"
        },
        "outputId": "27fca7bc-b659-47ea-982c-63898c0c25b7"
      },
      "execution_count": 100,
      "outputs": [
        {
          "output_type": "stream",
          "name": "stdout",
          "text": [
            "Obstáculo 5: saltando...\n",
            "Obstáculo 4: saltando...\n",
            "Obstáculo 3: saltando...\n",
            "Obstáculo 2: saltando...\n",
            "Obstáculo 1: saltando...\n",
            "Llegaste al final\n",
            "Fin del juego\n"
          ]
        }
      ]
    },
    {
      "cell_type": "markdown",
      "source": [
        "**Ejercicio 10: Torre de los hechizos (Reto Integrador Final)**\n",
        "\n",
        "Crea un programa completo que combine:\n",
        "\n",
        "* Elección de personaje.\n",
        "\n",
        "* Simulación de un combate contra un enemigo con vida y defensa.\n",
        "\n",
        "* Uso de funciones para calcular el daño.\n",
        "\n",
        "* Bucles para turnos de combate.\n",
        "\n",
        "* Uso de una función recursiva que simule las rondas como niveles (nivel 1, 2, 3 hasta ganar).\n",
        "\n"
      ],
      "metadata": {
        "id": "Behbpl_8WJzR"
      }
    },
    {
      "cell_type": "code",
      "source": [
        "import random\n",
        "\n",
        "# Elegir personaje\n",
        "def elige_protagonista():\n",
        "    print('Elige un protagonista: peon, alfil, guerrero')\n",
        "    protagonista = input('Elige tu personaje: ').strip().lower()\n",
        "\n",
        "    if protagonista == 'peon':\n",
        "        return {'nombre': 'Peón', 'vida': 100, 'poder': 20, 'defensa': 10}\n",
        "    elif protagonista == 'alfil':\n",
        "        return {'nombre': 'Alfil', 'vida': 120, 'poder': 30, 'defensa': 15}\n",
        "    elif protagonista == 'guerrero':\n",
        "        return {'nombre': 'Guerrero', 'vida': 150, 'poder': 40, 'defensa': 20}\n",
        "    else:\n",
        "        print('Elige un personaje válido')\n",
        "        return None\n",
        "\n",
        "# Calcular daño neto\n",
        "def calcular_danio(poder, defensa_enemigo):\n",
        "    danio = poder - defensa_enemigo\n",
        "    return max(danio, 0)\n",
        "\n",
        "# Simular combate por nivel\n",
        "def combate_enemigo(protagonista, nivel):\n",
        "    print(f\"\\n Nivel {nivel} - ¡Prepárate para luchar!\")\n",
        "\n",
        "    vida_protag = protagonista['vida']\n",
        "    poder_protag = protagonista['poder']\n",
        "    defensa_protag = protagonista['defensa']\n",
        "\n",
        "    # Enemigo más fuerte por nivel\n",
        "    vida_enemigo = 50 + nivel * 30\n",
        "    poder_enemigo = 10 + nivel * 5\n",
        "    defensa_enemigo = 5 + nivel * 3\n",
        "\n",
        "    print(f'Enemigo: Vida={vida_enemigo}, Poder={poder_enemigo}, Defensa={defensa_enemigo}')\n",
        "\n",
        "    # Turnos de combate\n",
        "    while vida_protag > 0 and vida_enemigo > 0:\n",
        "        input(\"\\nPresiona Enter para atacar...\")\n",
        "\n",
        "        # Turno del protagonista\n",
        "        danio_protag = calcular_danio(poder_protag, defensa_enemigo)\n",
        "        vida_enemigo -= danio_protag\n",
        "        print(f'Atacas {danio_protag}. Vida del enemigo: {max(vida_enemigo, 0)}')\n",
        "\n",
        "        if vida_enemigo <= 0:\n",
        "            print(\"Has derrotado al enemigo.\")\n",
        "            break\n",
        "\n",
        "        # Turno del enemigo\n",
        "        danio_enemigo = calcular_danio(poder_enemigo, defensa_protag)\n",
        "        vida_protag -= danio_enemigo\n",
        "        print(f'El enemigo ataca {danio_enemigo}. Tu vida: {max(vida_protag, 0)}')\n",
        "\n",
        "        if vida_protag <= 0:\n",
        "            print(\"Has muerto en combate.\")\n",
        "            break\n",
        "\n",
        "    protagonista['vida'] = vida_protag  # Guardar vida restante\n",
        "    return vida_protag > 0\n",
        "\n",
        "# Función recursiva para jugar niveles\n",
        "def jugar_nivel(protagonista, nivel):\n",
        "    if nivel > 3:\n",
        "        print(\"\\n¡Has conquistado la Torre de los Hechizos!\")\n",
        "        return\n",
        "\n",
        "    vivo = combate_enemigo(protagonista, nivel)\n",
        "    if vivo:\n",
        "        print(f\"Sobreviviste al nivel {nivel}.\")\n",
        "        jugar_nivel(protagonista, nivel + 1)\n",
        "    else:\n",
        "        print(\"Tu aventura ha terminado.\")\n",
        "\n",
        "# Iniciar aventura completa\n",
        "def iniciar_aventura():\n",
        "    protagonista = elige_protagonista()\n",
        "    if protagonista is None:\n",
        "        return\n",
        "    print(f\"\\nBienvenido, {protagonista['nombre']}. ¡Comienza tu aventura!\")\n",
        "    jugar_nivel(protagonista, 1)\n",
        "\n",
        "# Ejecutar juego\n",
        "iniciar_aventura()\n"
      ],
      "metadata": {
        "colab": {
          "base_uri": "https://localhost:8080/"
        },
        "id": "qVJwGBd_de8E",
        "outputId": "7d34d845-bad6-42ed-e67c-8cfe60a23c35"
      },
      "execution_count": 108,
      "outputs": [
        {
          "output_type": "stream",
          "name": "stdout",
          "text": [
            "Elige un protagonista: peon, alfil, guerrero\n",
            "Elige tu personaje: peon\n",
            "\n",
            "Bienvenido, Peón. ¡Comienza tu aventura!\n",
            "\n",
            " Nivel 1 - ¡Prepárate para luchar!\n",
            "Enemigo: Vida=80, Poder=15, Defensa=8\n",
            "\n",
            "Presiona Enter para atacar...\n",
            "Atacas 12. Vida del enemigo: 68\n",
            "El enemigo ataca 5. Tu vida: 95\n",
            "\n",
            "Presiona Enter para atacar...\n",
            "Atacas 12. Vida del enemigo: 56\n",
            "El enemigo ataca 5. Tu vida: 90\n",
            "\n",
            "Presiona Enter para atacar...\n",
            "Atacas 12. Vida del enemigo: 44\n",
            "El enemigo ataca 5. Tu vida: 85\n",
            "\n",
            "Presiona Enter para atacar...\n",
            "Atacas 12. Vida del enemigo: 32\n",
            "El enemigo ataca 5. Tu vida: 80\n",
            "\n",
            "Presiona Enter para atacar...\n",
            "Atacas 12. Vida del enemigo: 20\n",
            "El enemigo ataca 5. Tu vida: 75\n",
            "\n",
            "Presiona Enter para atacar...\n",
            "Atacas 12. Vida del enemigo: 8\n",
            "El enemigo ataca 5. Tu vida: 70\n",
            "\n",
            "Presiona Enter para atacar...\n",
            "Atacas 12. Vida del enemigo: 0\n",
            "Has derrotado al enemigo.\n",
            "Sobreviviste al nivel 1.\n",
            "\n",
            " Nivel 2 - ¡Prepárate para luchar!\n",
            "Enemigo: Vida=110, Poder=20, Defensa=11\n",
            "\n",
            "Presiona Enter para atacar...\n",
            "Atacas 9. Vida del enemigo: 101\n",
            "El enemigo ataca 10. Tu vida: 60\n",
            "\n",
            "Presiona Enter para atacar...\n",
            "Atacas 9. Vida del enemigo: 92\n",
            "El enemigo ataca 10. Tu vida: 50\n",
            "\n",
            "Presiona Enter para atacar...\n",
            "Atacas 9. Vida del enemigo: 83\n",
            "El enemigo ataca 10. Tu vida: 40\n",
            "\n",
            "Presiona Enter para atacar...\n",
            "Atacas 9. Vida del enemigo: 74\n",
            "El enemigo ataca 10. Tu vida: 30\n",
            "\n",
            "Presiona Enter para atacar...\n",
            "Atacas 9. Vida del enemigo: 65\n",
            "El enemigo ataca 10. Tu vida: 20\n",
            "\n",
            "Presiona Enter para atacar...\n",
            "Atacas 9. Vida del enemigo: 56\n",
            "El enemigo ataca 10. Tu vida: 10\n",
            "\n",
            "Presiona Enter para atacar...\n",
            "Atacas 9. Vida del enemigo: 47\n",
            "El enemigo ataca 10. Tu vida: 0\n",
            "Has muerto en combate.\n",
            "Tu aventura ha terminado.\n"
          ]
        }
      ]
    },
    {
      "cell_type": "markdown",
      "source": [
        "---\n",
        "\n",
        "# Gracias por completar este laboratorio!\n",
        "\n",
        "---\n"
      ],
      "metadata": {
        "id": "EONqoa25Wlx3"
      }
    }
  ]
}