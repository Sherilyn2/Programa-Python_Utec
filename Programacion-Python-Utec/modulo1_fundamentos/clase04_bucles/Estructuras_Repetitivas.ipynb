{
  "nbformat": 4,
  "nbformat_minor": 0,
  "metadata": {
    "colab": {
      "provenance": [],
      "include_colab_link": true
    },
    "kernelspec": {
      "name": "python3",
      "display_name": "Python 3"
    },
    "language_info": {
      "name": "python"
    }
  },
  "cells": [
    {
      "cell_type": "markdown",
      "metadata": {
        "id": "view-in-github",
        "colab_type": "text"
      },
      "source": [
        "<a href=\"https://colab.research.google.com/github/Sherilyn2/Programa-Python_Utec/blob/main/Programacion-Python-Utec/modulo1_fundamentos/clase04_bucles/Estructuras_Repetitivas.ipynb\" target=\"_parent\"><img src=\"https://colab.research.google.com/assets/colab-badge.svg\" alt=\"Open In Colab\"/></a>"
      ]
    },
    {
      "cell_type": "markdown",
      "source": [
        "<img src=\"https://posgrado.utec.edu.pe/sites/default/files/2023-08/Testimonial-home-2.jpg\" alt=\"HTML5 Icon\" width=\"900\" height=\"250\" >\n"
      ],
      "metadata": {
        "id": "18v8Y4Ho6Coz"
      }
    },
    {
      "cell_type": "markdown",
      "source": [
        "# **Estructuras Repetitivas**\n"
      ],
      "metadata": {
        "id": "3aOR6rX86FIO"
      }
    },
    {
      "cell_type": "markdown",
      "source": [
        "**Objetivos**\n",
        "\n",
        "- Comprender el funcionamiento detallado de los bucles `while` y `for` en Python.\n",
        "- Controlar flujos repetitivos con banderas, `break` y `continue`.\n",
        "- Desarrollar habilidades prácticas en resolución de problemas utilizando estructuras repetitivas.\n",
        "\n",
        "---"
      ],
      "metadata": {
        "id": "yvkULT4_6OON"
      }
    },
    {
      "cell_type": "markdown",
      "source": [
        "**Contenido**\n",
        "\n",
        "- 1. Bucle `while`\n",
        "- 2. Dejar que el usuario decida cuándo salir\n",
        "- 3. Uso de bandera (flag)\n",
        "- 4. Uso de `break`\n",
        "- 5. Uso de `continue`\n",
        "- 6. Bucle `for`\n",
        "- 7. Bucle `for` con `range()`\n",
        "- 8. Ejercicios de reto final"
      ],
      "metadata": {
        "id": "vC9JHrQ06UNL"
      }
    },
    {
      "cell_type": "markdown",
      "source": [
        "## 1. Bucle `while`\n"
      ],
      "metadata": {
        "id": "oscManXk6ZmY"
      }
    },
    {
      "cell_type": "markdown",
      "source": [
        "El bucle `while` repite acciones mientras una condición sea verdadera. Es ideal cuando no sabemos previamente cuántas veces se repetirá.\n"
      ],
      "metadata": {
        "id": "U9GbyDk86bxp"
      }
    },
    {
      "cell_type": "markdown",
      "source": [
        "**Ejemplo 1.1**\n"
      ],
      "metadata": {
        "id": "deNpmxkP6e0D"
      }
    },
    {
      "cell_type": "code",
      "source": [
        "contador = 0\n",
        "\n",
        "while contador < 10:                             #siempre sera un test condicional que tendra como resultado un booleano\n",
        "  print(f'El valor del contador es: {contador}') #las llaves van dentro del un f string q evalua una cadena de variables\n",
        "  contador += 1                                  #contador = contador + 1\n",
        "\n",
        "\n"
      ],
      "metadata": {
        "colab": {
          "base_uri": "https://localhost:8080/"
        },
        "id": "Oa44SXpoAVe-",
        "outputId": "367c1ec1-f129-46e9-9e9a-79dc664852c7"
      },
      "execution_count": 2,
      "outputs": [
        {
          "output_type": "stream",
          "name": "stdout",
          "text": [
            "El valor del contador es: 0\n",
            "El valor del contador es: 1\n",
            "El valor del contador es: 2\n",
            "El valor del contador es: 3\n",
            "El valor del contador es: 4\n",
            "El valor del contador es: 5\n",
            "El valor del contador es: 6\n",
            "El valor del contador es: 7\n",
            "El valor del contador es: 8\n",
            "El valor del contador es: 9\n"
          ]
        }
      ]
    },
    {
      "cell_type": "code",
      "source": [
        "print (contador)"
      ],
      "metadata": {
        "colab": {
          "base_uri": "https://localhost:8080/"
        },
        "id": "cM7y57JYDN4m",
        "outputId": "b31d4d0d-83cd-4ff8-943a-2c7e46bb625e"
      },
      "execution_count": 3,
      "outputs": [
        {
          "output_type": "stream",
          "name": "stdout",
          "text": [
            "10\n"
          ]
        }
      ]
    },
    {
      "cell_type": "code",
      "execution_count": 4,
      "metadata": {
        "id": "kyekYQu95xx9",
        "colab": {
          "base_uri": "https://localhost:8080/"
        },
        "outputId": "e291acef-d184-4658-d203-ed33c303fc12"
      },
      "outputs": [
        {
          "output_type": "stream",
          "name": "stdout",
          "text": [
            "Número actual: 1\n",
            "Número actual: 2\n",
            "Número actual: 3\n",
            "Número actual: 4\n",
            "Número actual: 5\n",
            "Terminó el conteo.\n"
          ]
        }
      ],
      "source": [
        "contador = 1\n",
        "while contador <= 5:\n",
        "    print(f\"Número actual: {contador}\")\n",
        "    contador += 1\n",
        "print(\"Terminó el conteo.\")                   #se ejecutara cuando termina el while no es integrado de...."
      ]
    },
    {
      "cell_type": "markdown",
      "source": [
        "**Ejercicio 1.1**\n",
        "\n",
        "Solicita al usuario un número y muestra todos los números desde 1 hasta ese número.\n",
        "\n"
      ],
      "metadata": {
        "id": "i9ktGgFL6iZv"
      }
    },
    {
      "cell_type": "code",
      "source": [
        "num= int(input(\"Ingrese un número inicial para comenzar el conteo: \"))\n",
        "\n",
        "contador = 1\n",
        "while contador <= num:\n",
        "    print(f\"Número : {contador}\")\n",
        "    contador += 1\n",
        "print(\"Terminó el conteo.\")"
      ],
      "metadata": {
        "id": "yiIKKpaO6nfb",
        "colab": {
          "base_uri": "https://localhost:8080/"
        },
        "outputId": "15c9e840-ed7a-43e1-b025-69eb4055db4b"
      },
      "execution_count": 12,
      "outputs": [
        {
          "output_type": "stream",
          "name": "stdout",
          "text": [
            "Ingrese un número inicial para comenzar el conteo: 3\n",
            "Número : 1\n",
            "Número : 2\n",
            "Número : 3\n",
            "Terminó el conteo.\n"
          ]
        }
      ]
    },
    {
      "cell_type": "markdown",
      "source": [
        "**Ejercicio 1.2**\n",
        "\n",
        "Realiza un programa que solicite números hasta que la suma acumulada sea mayor o igual a 100.\n",
        "\n"
      ],
      "metadata": {
        "id": "BZlXT-y86n0X"
      }
    },
    {
      "cell_type": "code",
      "source": [
        "suma_acumulada = 0\n",
        "while suma_acumulada < 100:\n",
        "    numero = int(input(\"Ingrese un número para sumar: \"))\n",
        "    suma_acumulada += numero\n",
        "    print(f'la suma es {suma_acumulada}')\n",
        "print('Fin del programa')"
      ],
      "metadata": {
        "id": "unv7_Rev6w36",
        "colab": {
          "base_uri": "https://localhost:8080/"
        },
        "outputId": "5400d401-699d-42da-b731-b4a35c17485d"
      },
      "execution_count": 19,
      "outputs": [
        {
          "output_type": "stream",
          "name": "stdout",
          "text": [
            "Ingrese un número para sumar: 89\n",
            "la suma es 89\n",
            "Ingrese un número para sumar: 69\n",
            "la suma es 158\n",
            "Fin del programa\n"
          ]
        }
      ]
    },
    {
      "cell_type": "markdown",
      "source": [
        "Ejercicio 1.3\n",
        "\n",
        "Realiza un programa que solicite dos números (N y m), calcula los múltiplos de m menores que N. Una condición del programa debe ser que m no sea mayor que N"
      ],
      "metadata": {
        "id": "FGEUI-cOGH5C"
      }
    },
    {
      "cell_type": "code",
      "source": [
        "N = int(input(\"Ingrese el valor del multiplicador: \"))\n",
        "m = int(input(\"Ingrese el valor límite: \"))\n",
        "\n",
        "contador = 0\n",
        "producto = 0\n",
        "\n",
        "if m <= N:\n",
        "  while prodcuto < N:\n",
        "      producto = m * contador\n",
        "      print(f\"{m} x {contador} = {producto}\")\n",
        "      contador += 1\n",
        "else:\n",
        "  print(f\"El número m no puede ser mayor que el número N\")"
      ],
      "metadata": {
        "colab": {
          "base_uri": "https://localhost:8080/"
        },
        "id": "3s9hGYgqKT4Y",
        "outputId": "cfada8a3-9c48-494f-b735-f6d08eea9524"
      },
      "execution_count": 24,
      "outputs": [
        {
          "output_type": "stream",
          "name": "stdout",
          "text": [
            "Ingrese el valor del multiplicador: 4\n",
            "Ingrese el valor límite: 20\n",
            "El número m no puede ser mayor que el número N\n"
          ]
        }
      ]
    },
    {
      "cell_type": "code",
      "source": [
        "#solicite dos números (N y m), calcula los multiplos de m menores que N.\n",
        "#Una condicion del programa debe ser que m no sea mayor que N.\n",
        "\n",
        "N = int(input(\"Ingrese el valor límite \"))\n",
        "m = int(input(\"Ingrese el valor del multiplicador: \"))\n",
        "\n",
        "if m > N:\n",
        "  print('El número m no puede ser mayor que el número N')\n",
        "else:\n",
        "  contador = 0\n",
        "  producto = 0\n",
        "  while producto < N:\n",
        "      producto = m * contador\n",
        "      if producto < N:\n",
        "        print(f\"{m} x {contador} = {producto}\")           #esto es para que se visualice como una tabla de multiplicar\n",
        "      contador += 1                                     #es avance de 1 en 1\n",
        "print('Programa terminado')"
      ],
      "metadata": {
        "colab": {
          "base_uri": "https://localhost:8080/"
        },
        "id": "H0iYdi43Mb_0",
        "outputId": "c6a64db7-4561-4a20-bfdf-2961e4e62c05"
      },
      "execution_count": 27,
      "outputs": [
        {
          "output_type": "stream",
          "name": "stdout",
          "text": [
            "Ingrese el valor límite 20\n",
            "Ingrese el valor del multiplicador: 3\n",
            "3 x 0 = 0\n",
            "3 x 1 = 3\n",
            "3 x 2 = 6\n",
            "3 x 3 = 9\n",
            "3 x 4 = 12\n",
            "3 x 5 = 15\n",
            "3 x 6 = 18\n",
            "Programa terminado\n"
          ]
        }
      ]
    },
    {
      "cell_type": "markdown",
      "source": [],
      "metadata": {
        "id": "dAgqEZOAGDyB"
      }
    },
    {
      "cell_type": "markdown",
      "source": [
        "## 2. Dejar que el usuario decida cuándo salir\n"
      ],
      "metadata": {
        "id": "HiAtV2fe6zi-"
      }
    },
    {
      "cell_type": "markdown",
      "source": [
        "Permite al usuario controlar cuándo finalizar la ejecución del bucle mediante una entrada específica.\n"
      ],
      "metadata": {
        "id": "9TaTdlCp62Ln"
      }
    },
    {
      "cell_type": "markdown",
      "source": [
        "**Ejemplo 2.1**"
      ],
      "metadata": {
        "id": "X3ehnMdu63sF"
      }
    },
    {
      "cell_type": "code",
      "source": [
        "message = ''        #se define la variable un message en auxiliar\n",
        "while message != 'salir':\n",
        "    message = input('Dime un mensaje y lo repetiré o salir para terminar: ')\n",
        "    print(message)"
      ],
      "metadata": {
        "colab": {
          "base_uri": "https://localhost:8080/"
        },
        "id": "VOy8iXXLQhwi",
        "outputId": "daf5c67f-6edb-4d92-f788-57d97d1e95db"
      },
      "execution_count": 29,
      "outputs": [
        {
          "output_type": "stream",
          "name": "stdout",
          "text": [
            "Dime un mensaje y lo repetiré o salir para terminar: hello\n",
            "hello\n",
            "Dime un mensaje y lo repetiré o salir para terminar: hols\n",
            "hols\n",
            "Dime un mensaje y lo repetiré o salir para terminar: alir\n",
            "alir\n",
            "Dime un mensaje y lo repetiré o salir para terminar: SALIR\n",
            "SALIR\n",
            "Dime un mensaje y lo repetiré o salir para terminar: salir\n",
            "salir\n"
          ]
        }
      ]
    },
    {
      "cell_type": "code",
      "source": [
        "mensaje = ''\n",
        "while mensaje.lower() != 'salir':\n",
        "    mensaje = input(\"Escribe 'salir' para terminar: \")\n",
        "    if mensaje.lower() != 'salir':\n",
        "        print(f\"Ingresaste: {mensaje}\")\n",
        "print(\"Programa terminado.\")"
      ],
      "metadata": {
        "id": "9AXqylJZ67KJ"
      },
      "execution_count": null,
      "outputs": []
    },
    {
      "cell_type": "markdown",
      "source": [
        "**Ejercicio 2.1.**\n",
        "\n",
        "Crea un programa que permita introducir números indefinidamente hasta escribir \"fin\" y luego muestre la suma de todos los números ingresados.\n"
      ],
      "metadata": {
        "id": "1_ZsLH6U69XU"
      }
    },
    {
      "cell_type": "code",
      "source": [
        "numero = ''\n",
        "while numero.lower() != 'fin':\n",
        "    numero = input(\"Escribe un número o escribe 'fin' para terminar: \")\n",
        "    if numero.lower() != 'fin':\n",
        "        print(f\"Ingresaste: {numero}\")\n",
        "print(\"Programa terminado.\")"
      ],
      "metadata": {
        "id": "ZU5tnAfm7Bzt",
        "colab": {
          "base_uri": "https://localhost:8080/"
        },
        "outputId": "ae981834-ed31-466c-f79e-168d0dd4ac90"
      },
      "execution_count": 31,
      "outputs": [
        {
          "output_type": "stream",
          "name": "stdout",
          "text": [
            "Escribe un número o escribe 'fin' para terminar: 3\n",
            "Ingresaste: 3\n",
            "Escribe un número o escribe 'fin' para terminar: 2\n",
            "Ingresaste: 2\n",
            "Escribe un número o escribe 'fin' para terminar: fins\n",
            "Ingresaste: fins\n",
            "Escribe un número o escribe 'fin' para terminar: FIN\n",
            "Programa terminado.\n"
          ]
        }
      ]
    },
    {
      "cell_type": "code",
      "source": [
        "numero =''\n",
        "contador = 0\n",
        "\n",
        "while numero.lower().strip() != 'fin':\n",
        "  numero = input('Ingrese un número o escriba \"fin\" para terminar: ')\n",
        "  if numero.lower().strip() != 'fin':\n",
        "    contador += int(numero)\n",
        "\n",
        "print (f'La suma final es: {contador}')"
      ],
      "metadata": {
        "colab": {
          "base_uri": "https://localhost:8080/"
        },
        "id": "3kqy98GnWneY",
        "outputId": "907d7168-d470-4fe3-f587-c9c467f7ee80"
      },
      "execution_count": 33,
      "outputs": [
        {
          "output_type": "stream",
          "name": "stdout",
          "text": [
            "Ingrese un número o escriba \"fin\" para terminar: 3\n",
            "Ingrese un número o escriba \"fin\" para terminar: 4\n",
            "Ingrese un número o escriba \"fin\" para terminar: FIN\n",
            "La suma final es: 7\n"
          ]
        }
      ]
    },
    {
      "cell_type": "markdown",
      "source": [
        "**Ejercicio 2.2.**\n",
        "\n",
        "Implementa un menú de opciones (mostrar, ingresar, salir) que repita hasta elegir salir.\n"
      ],
      "metadata": {
        "id": "EmhoSya87CI1"
      }
    },
    {
      "cell_type": "code",
      "source": [],
      "metadata": {
        "id": "EHTPcxGJ7H22"
      },
      "execution_count": null,
      "outputs": []
    },
    {
      "cell_type": "markdown",
      "source": [
        "## 3. Uso de bandera (flag)\n"
      ],
      "metadata": {
        "id": "uIYEi2vn7J_L"
      }
    },
    {
      "cell_type": "markdown",
      "source": [
        "Una bandera (`flag`) es una variable lógica usada para controlar cuándo debe finalizar un bucle.\n"
      ],
      "metadata": {
        "id": "YHe7O2jS7NCy"
      }
    },
    {
      "cell_type": "code",
      "source": [
        "activo = True\n",
        "numero =''\n",
        "contador = 0\n",
        "\n",
        "while activo:\n",
        "  numero = input('Ingrese un número o escriba \"fin\" para terminar: ')\n",
        "  if numero.lower().strip() != 'fin':\n",
        "    contador += int(numero)\n",
        "  else:\n",
        "    activo = False\n",
        "print (f'La suma final es: {contador}')"
      ],
      "metadata": {
        "colab": {
          "base_uri": "https://localhost:8080/"
        },
        "id": "XeI6cd-cZBcf",
        "outputId": "9cd52413-5bca-45e2-8fe6-54f2f6153d11"
      },
      "execution_count": 34,
      "outputs": [
        {
          "output_type": "stream",
          "name": "stdout",
          "text": [
            "Ingrese un número o escriba \"fin\" para terminar: 13\n",
            "Ingrese un número o escriba \"fin\" para terminar: 1\n",
            "Ingrese un número o escriba \"fin\" para terminar: fin\n",
            "La suma final es: 14\n"
          ]
        }
      ]
    },
    {
      "cell_type": "markdown",
      "source": [
        "**Ejemplo 3.1**"
      ],
      "metadata": {
        "id": "hrVhKmX_8K8X"
      }
    },
    {
      "cell_type": "code",
      "source": [
        "activo = True\n",
        "while activo:\n",
        "    opcion = input(\"Continuar (s/n): \")\n",
        "    if opcion.lower() == 'n':\n",
        "        activo = False\n",
        "print(\"Programa finalizado.\")"
      ],
      "metadata": {
        "id": "njCEJiY37PiC"
      },
      "execution_count": null,
      "outputs": []
    },
    {
      "cell_type": "code",
      "source": [
        "num = ''\n",
        "contador = 0\n",
        "\n",
        "while True:\n",
        "    num = input('Ingrese un número o escriba \"fin\" para salir: ')\n",
        "    if num.lower().strip() == 'fin':\n",
        "        contador += int(num)\n",
        "    else:\n",
        "      break\n",
        "\n",
        "print(\"Programa finalizado.\")"
      ],
      "metadata": {
        "id": "0LCb9ifeeH8n"
      },
      "execution_count": null,
      "outputs": []
    },
    {
      "cell_type": "code",
      "source": [],
      "metadata": {
        "id": "2NhUFZs5ezBi"
      },
      "execution_count": null,
      "outputs": []
    },
    {
      "cell_type": "code",
      "source": [
        "n = -1\n",
        "\n",
        "while n <= 20:\n",
        "  n += 1\n",
        "  if n % 2 == 0:\n",
        "    print(n)\n",
        "  else:\n",
        "    continue\n",
        "  print('Se encontró un multiplo de 2!!!')\n",
        ""
      ],
      "metadata": {
        "colab": {
          "base_uri": "https://localhost:8080/"
        },
        "id": "O0BaYqsUfO62",
        "outputId": "6e095d3f-27d5-4f8c-895c-847eab5342d2"
      },
      "execution_count": 39,
      "outputs": [
        {
          "output_type": "stream",
          "name": "stdout",
          "text": [
            "0\n",
            "Se encontró un multiplo de 2!!!\n",
            "2\n",
            "Se encontró un multiplo de 2!!!\n",
            "4\n",
            "Se encontró un multiplo de 2!!!\n",
            "6\n",
            "Se encontró un multiplo de 2!!!\n",
            "8\n",
            "Se encontró un multiplo de 2!!!\n",
            "10\n",
            "Se encontró un multiplo de 2!!!\n",
            "12\n",
            "Se encontró un multiplo de 2!!!\n",
            "14\n",
            "Se encontró un multiplo de 2!!!\n",
            "16\n",
            "Se encontró un multiplo de 2!!!\n",
            "18\n",
            "Se encontró un multiplo de 2!!!\n",
            "20\n",
            "Se encontró un multiplo de 2!!!\n"
          ]
        }
      ]
    },
    {
      "cell_type": "markdown",
      "source": [
        "**Ejercicio 3.1**\n",
        "\n",
        "Desarrolla un juego simple donde el usuario adivine un número secreto y use una bandera para determinar cuándo finalizar.\n"
      ],
      "metadata": {
        "id": "5_sLbMFD7SUj"
      }
    },
    {
      "cell_type": "code",
      "source": [
        "from random import randint"
      ],
      "metadata": {
        "id": "bu0qsswDbP4V"
      },
      "execution_count": 36,
      "outputs": []
    },
    {
      "cell_type": "code",
      "source": [
        "randint(1,10)"
      ],
      "metadata": {
        "colab": {
          "base_uri": "https://localhost:8080/"
        },
        "id": "jtUMQxr0au4Y",
        "outputId": "4c7f50f1-620d-42e2-cb9c-031d5288b49f"
      },
      "execution_count": 37,
      "outputs": [
        {
          "output_type": "execute_result",
          "data": {
            "text/plain": [
              "3"
            ]
          },
          "metadata": {},
          "execution_count": 37
        }
      ]
    },
    {
      "cell_type": "code",
      "source": [
        "numero = randint(1,100)\n",
        "numero"
      ],
      "metadata": {
        "colab": {
          "base_uri": "https://localhost:8080/"
        },
        "id": "-XXosvTKbW6p",
        "outputId": "8a853c94-4638-4da4-bfbb-b47786f42d5c"
      },
      "execution_count": 38,
      "outputs": [
        {
          "output_type": "execute_result",
          "data": {
            "text/plain": [
              "85"
            ]
          },
          "metadata": {},
          "execution_count": 38
        }
      ]
    },
    {
      "cell_type": "code",
      "source": [
        "\n",
        "numero = randint(1,100)\n",
        "\n",
        "while True:\n",
        "  response = int(input ('Adivine el número [1-100]: '))\n",
        "  if response == numero:\n",
        "    print('Felicidades!! desea jugar de nuevo? (y): ')\n",
        "    if response == 'y':\n",
        "      print('Vamos a jugar de nuevo')\n",
        "      numero = randint(1,100)\n",
        "      continue\n",
        "    else:\n",
        "      print ('Gracias por jugar')\n",
        "      break\n",
        "  elif response < numero:\n",
        "      print('El número ingresado es menor al número secreto')\n",
        "  else:\n",
        "      print('El número ingresado es mayor al número secreto')"
      ],
      "metadata": {
        "colab": {
          "base_uri": "https://localhost:8080/"
        },
        "id": "TA_fzgJNbuwd",
        "outputId": "eafa3ee2-702a-46ba-d241-b45b1f7f5342"
      },
      "execution_count": 47,
      "outputs": [
        {
          "output_type": "stream",
          "name": "stdout",
          "text": [
            "Adivine el número [1-100]: 60\n",
            "El número ingresado es menor al número secreto\n",
            "Adivine el número [1-100]: 80\n",
            "El número ingresado es menor al número secreto\n",
            "Adivine el número [1-100]: 90\n",
            "El número ingresado es mayor al número secreto\n",
            "Adivine el número [1-100]: 89\n",
            "El número ingresado es mayor al número secreto\n",
            "Adivine el número [1-100]: 87\n",
            "El número ingresado es mayor al número secreto\n",
            "Adivine el número [1-100]: 85\n",
            "El número ingresado es mayor al número secreto\n",
            "Adivine el número [1-100]: 81\n",
            "El número ingresado es menor al número secreto\n",
            "Adivine el número [1-100]: 82\n",
            "El número ingresado es menor al número secreto\n",
            "Adivine el número [1-100]: 83\n",
            "El número ingresado es menor al número secreto\n",
            "Adivine el número [1-100]: 84\n",
            "Felicidades!! desea jugar de nuevo? (y): \n",
            "Gracias por jugar\n"
          ]
        }
      ]
    },
    {
      "cell_type": "markdown",
      "source": [
        "**Ejercicio 3.2**\n",
        "\n",
        "\n",
        "Crea un simulador de encuestas que registre respuestas hasta que el usuario indique explícitamente que desea detenerse.\n"
      ],
      "metadata": {
        "id": "KtLRZMCf7iZ6"
      }
    },
    {
      "cell_type": "code",
      "source": [],
      "metadata": {
        "id": "NF-Pza0K7l0_"
      },
      "execution_count": null,
      "outputs": []
    },
    {
      "cell_type": "markdown",
      "source": [],
      "metadata": {
        "id": "p_tM9Laf7mNx"
      }
    },
    {
      "cell_type": "markdown",
      "source": [
        "## 4. Uso de `break`\n"
      ],
      "metadata": {
        "id": "bQ49vDpd7nxl"
      }
    },
    {
      "cell_type": "markdown",
      "source": [
        "El comando `break` interrumpe inmediatamente la ejecución del bucle actual y continúa con el código siguiente fuera del bucle.\n"
      ],
      "metadata": {
        "id": "mNi_oK2e7p7h"
      }
    },
    {
      "cell_type": "markdown",
      "source": [
        "**Ejemplo 4.1**"
      ],
      "metadata": {
        "id": "i_NeJak88Mit"
      }
    },
    {
      "cell_type": "code",
      "source": [
        "while True:\n",
        "    contraseña = input(\"Introduce la contraseña: \")\n",
        "    if contraseña == '1234':\n",
        "        print(\"Acceso concedido.\")\n",
        "        break\n",
        "    print(\"Contraseña incorrecta, inténtalo de nuevo.\")"
      ],
      "metadata": {
        "id": "SZ3NAl_D7r7O"
      },
      "execution_count": null,
      "outputs": []
    },
    {
      "cell_type": "markdown",
      "source": [
        "**Ejercicio 4.1.**\n",
        "\n",
        "Programa una simulación de un cajero automático que finalice inmediatamente al ingresar el pin correcto.\n",
        "\n"
      ],
      "metadata": {
        "id": "blY9Uyi_7sYT"
      }
    },
    {
      "cell_type": "code",
      "source": [],
      "metadata": {
        "id": "luLubC-j70yf"
      },
      "execution_count": null,
      "outputs": []
    },
    {
      "cell_type": "markdown",
      "source": [
        "**Ejercicio 4.2.**\n",
        "\n",
        "Implementa un sistema que detenga la ejecución de un ciclo al detectar un número primo.\n"
      ],
      "metadata": {
        "id": "OMwgGQtN71pn"
      }
    },
    {
      "cell_type": "code",
      "source": [],
      "metadata": {
        "id": "lXAsluPh71FK"
      },
      "execution_count": null,
      "outputs": []
    },
    {
      "cell_type": "markdown",
      "source": [
        "## 5. Uso de `continue`\n"
      ],
      "metadata": {
        "id": "n3_A0xyy74E8"
      }
    },
    {
      "cell_type": "markdown",
      "source": [
        "El comando `continue` permite saltar la iteración actual y continuar directamente con la siguiente iteración del bucle.\n"
      ],
      "metadata": {
        "id": "k8xvQ7RF77Rc"
      }
    },
    {
      "cell_type": "markdown",
      "source": [
        "**Ejemplo 5.1**"
      ],
      "metadata": {
        "id": "SPFNjXXg8N5c"
      }
    },
    {
      "cell_type": "code",
      "source": [
        "for numero in range(10):\n",
        "    if numero % 2 == 0:\n",
        "        continue\n",
        "    print(numero, \"es impar.\")"
      ],
      "metadata": {
        "id": "z7ojd6o875S7"
      },
      "execution_count": null,
      "outputs": []
    },
    {
      "cell_type": "markdown",
      "source": [
        "**Ejercicio 5.1.**\n",
        "\n",
        "Crea un programa que pida números pero ignore (no los imprima) aquellos que sean múltiplos de 5.\n"
      ],
      "metadata": {
        "id": "2ANEL3x77_aA"
      }
    },
    {
      "cell_type": "code",
      "source": [],
      "metadata": {
        "id": "JPcGOsFw8G6y"
      },
      "execution_count": null,
      "outputs": []
    },
    {
      "cell_type": "markdown",
      "source": [
        "\n",
        "**Ejercicio 5.2.**\n",
        "\n",
        "Solicita al usuario 7 números y muestra solamente aquellos que sean positivos."
      ],
      "metadata": {
        "id": "OfzwakeO79WP"
      }
    },
    {
      "cell_type": "code",
      "source": [],
      "metadata": {
        "id": "bPww6bOQ8IAY"
      },
      "execution_count": null,
      "outputs": []
    },
    {
      "cell_type": "markdown",
      "source": [
        "## 6. Bucle `for`\n"
      ],
      "metadata": {
        "id": "7OcruVUY8R0h"
      }
    },
    {
      "cell_type": "markdown",
      "source": [
        "El bucle `for` recorre elementos de una secuencia conocida, permitiendo automatizar tareas repetitivas sobre listas, cadenas o cualquier secuencia iterable.\n"
      ],
      "metadata": {
        "id": "vIK_1Oz18Wg0"
      }
    },
    {
      "cell_type": "markdown",
      "source": [
        "**Ejemplo 6.1**"
      ],
      "metadata": {
        "id": "T5idR_D48UeL"
      }
    },
    {
      "cell_type": "code",
      "source": [
        "colores = ['rojo', 'verde', 'azul']\n",
        "for color in colores:\n",
        "    print(\"El color es\", color)"
      ],
      "metadata": {
        "id": "oQAKORFj8aol"
      },
      "execution_count": null,
      "outputs": []
    },
    {
      "cell_type": "markdown",
      "source": [
        "**Ejercicio 6.1.**\n",
        "\n",
        "Solicita 5 nombres y salúdalos individualmente usando un bucle `for`.\n"
      ],
      "metadata": {
        "id": "nSKYPrkA8dMT"
      }
    },
    {
      "cell_type": "code",
      "source": [],
      "metadata": {
        "id": "c9tmoekN8jco"
      },
      "execution_count": null,
      "outputs": []
    },
    {
      "cell_type": "markdown",
      "source": [
        "**Ejercicio 6.2.**\n",
        "\n",
        "Recorre una cadena de texto e imprime solo las letras vocales.\n"
      ],
      "metadata": {
        "id": "kpS-l4598jxI"
      }
    },
    {
      "cell_type": "code",
      "source": [],
      "metadata": {
        "id": "cAbGJKPi8orn"
      },
      "execution_count": null,
      "outputs": []
    },
    {
      "cell_type": "markdown",
      "source": [
        "## 7. Bucle `for` con `range()`\n"
      ],
      "metadata": {
        "id": "gq6iDWD88oPL"
      }
    },
    {
      "cell_type": "markdown",
      "source": [
        "La función `range()` genera una secuencia numérica ideal para controlar iteraciones con límites definidos.\n"
      ],
      "metadata": {
        "id": "F9nu8pBa8rQg"
      }
    },
    {
      "cell_type": "markdown",
      "source": [
        "**Ejemplo 7.1.**"
      ],
      "metadata": {
        "id": "W7FY33Xo8tMd"
      }
    },
    {
      "cell_type": "code",
      "source": [
        "for i in range(1, 6):\n",
        "    print(f\"Número: {i}\")"
      ],
      "metadata": {
        "id": "cu5H61Fm8szL"
      },
      "execution_count": null,
      "outputs": []
    },
    {
      "cell_type": "markdown",
      "source": [
        "**Ejercicio 7.1.**\n",
        "\n",
        "Realiza un programa que imprima todos los números pares entre 1 y 50.\n",
        "\n"
      ],
      "metadata": {
        "id": "W_t1FFCT8w83"
      }
    },
    {
      "cell_type": "code",
      "source": [],
      "metadata": {
        "id": "doe0H_jb86Ij"
      },
      "execution_count": null,
      "outputs": []
    },
    {
      "cell_type": "markdown",
      "source": [
        "**Ejercicio 7.2.**\n",
        "\n",
        "Usa `range()` para calcular y mostrar la suma de los primeros 20 números naturales.\n",
        "\n"
      ],
      "metadata": {
        "id": "J1D5oHeZ86ga"
      }
    },
    {
      "cell_type": "code",
      "source": [],
      "metadata": {
        "id": "go4Vvtnt87qz"
      },
      "execution_count": null,
      "outputs": []
    },
    {
      "cell_type": "markdown",
      "source": [
        "\n",
        "**Ejercicio 7.3.**\n",
        "\n",
        "Crea un programa que muestre una cuenta regresiva desde 15 hasta 0 con un mensaje especial en cero."
      ],
      "metadata": {
        "id": "7b7oby7_879-"
      }
    },
    {
      "cell_type": "markdown",
      "source": [
        "---\n",
        "\n",
        "## Ejercicios adicionales\n",
        "\n",
        "1. Simula un sistema de votación que cuente votos hasta que el usuario decida terminar y muestre el total.\n",
        "\n",
        "2. Crea un juego en el que el usuario adivine un número generado aleatoriamente con límite de intentos.\n",
        "\n",
        "3. Desarrolla un programa que imprima la tabla de multiplicar de cualquier número ingresado por el usuario.\n",
        "\n",
        "4. Realiza un programa que solicite números continuamente hasta que ingrese un número negativo y luego muestre la cantidad de números ingresados.\n",
        "\n",
        "5. Simula un cronómetro que imprima los segundos hasta llegar a un tiempo ingresado por el usuario.\n",
        "\n",
        "6. Pide al usuario una palabra e imprime sus letras alternando mayúsculas y minúsculas.\n",
        "\n",
        "7. Implementa un buscador que solicite nombres continuamente y los almacene en una lista hasta que el usuario escriba \"salir\".\n",
        "\n",
        "8. Solicita al usuario números y determina cuántos números primos se han ingresado al finalizar la entrada de datos.\n",
        "\n",
        "---"
      ],
      "metadata": {
        "id": "1DwFMbVi8-Uj"
      }
    },
    {
      "cell_type": "markdown",
      "source": [
        "## Conclusión\n",
        "\n",
        "A lo largo de este laboratorio, aprendiste cómo usar estructuras repetitivas para automatizar tareas, controlar condiciones dinámicas y solucionar problemas complejos de forma eficiente y clara en Python. Estas habilidades son esenciales para la programación estructurada y eficiente.\n"
      ],
      "metadata": {
        "id": "4AfCerGB9Hjl"
      }
    },
    {
      "cell_type": "markdown",
      "source": [
        "---\n",
        "\n",
        "# Gracias por completar este laboratorio!\n",
        "\n",
        "---\n"
      ],
      "metadata": {
        "id": "uPP5akR29Iub"
      }
    }
  ]
}